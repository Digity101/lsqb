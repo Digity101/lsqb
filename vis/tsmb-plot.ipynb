{
 "cells": [
  {
   "cell_type": "code",
   "execution_count": null,
   "metadata": {},
   "outputs": [],
   "source": [
    "import pandas as pd\n",
    "import seaborn as sns\n",
    "import natsort as ns\n",
    "\n",
    "df = pd.read_csv(\"results.csv\", header=None, sep=\"\\t\",\n",
    "                 names=[\"system\", \"variant\", \"sf\", \"query\", \"time\", \"result\"],\n",
    "                 dtype={\"system\": str, \"variant\": str, \"sf\": float, \"query\": int, \"time\": float, \"result\": int}\n",
    "                )\n",
    "df = df.fillna(\"\")\n",
    "\n",
    "df.system = df.system.str.cat(\" \" + df.variant)\n",
    "df.system = pd.Categorical(df.system, ordered=True, categories=ns.natsorted(df.system.unique()))\n",
    "df = df.sort_values(by=[\"system\", \"sf\", \"query\"])\n",
    "\n",
    "# use at most 1 significant digit for the scale factor\n",
    "df.sf = df.sf.apply(lambda x: str(x).rstrip('0').rstrip('.'))\n",
    "\n",
    "sns.set_theme(style=\"ticks\")\n",
    "g = sns.catplot(data=df, kind=\"bar\", col=\"query\", col_wrap=3,\n",
    "                x=\"sf\", y=\"time\", hue=\"system\",\n",
    "                sharey=False, log=True)\n",
    "g.savefig(\"results.png\", dpi=300)"
   ]
  },
  {
   "cell_type": "code",
   "execution_count": null,
   "metadata": {},
   "outputs": [],
   "source": []
  }
 ],
 "metadata": {
  "kernelspec": {
   "display_name": "Python 3",
   "language": "python",
   "name": "python3"
  },
  "language_info": {
   "codemirror_mode": {
    "name": "ipython",
    "version": 3
   },
   "file_extension": ".py",
   "mimetype": "text/x-python",
   "name": "python",
   "nbconvert_exporter": "python",
   "pygments_lexer": "ipython3",
   "version": "3.8.5"
  }
 },
 "nbformat": 4,
 "nbformat_minor": 4
}
